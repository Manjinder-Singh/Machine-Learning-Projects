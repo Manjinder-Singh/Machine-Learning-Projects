{
  "nbformat": 4,
  "nbformat_minor": 0,
  "metadata": {
    "colab": {
      "name": "BasicPython.ipynb",
      "provenance": []
    },
    "kernelspec": {
      "name": "python3",
      "display_name": "Python 3"
    },
    "language_info": {
      "name": "python"
    }
  },
  "cells": [
    {
      "cell_type": "markdown",
      "metadata": {
        "id": "6e2nQawYvQvM"
      },
      "source": [
        "#Basic Python Program"
      ]
    },
    {
      "cell_type": "markdown",
      "metadata": {
        "id": "XaXrpMQYvWdP"
      },
      "source": [
        "###Arithmetic Operation"
      ]
    },
    {
      "cell_type": "code",
      "metadata": {
        "colab": {
          "base_uri": "https://localhost:8080/"
        },
        "id": "F_QDEqB7vCwV",
        "outputId": "fa286cc7-6475-4f7a-bcf3-321fe6fcd12c"
      },
      "source": [
        "a=5\n",
        "b=6\n",
        "c=a*b\n",
        "print(c)"
      ],
      "execution_count": 10,
      "outputs": [
        {
          "output_type": "stream",
          "name": "stdout",
          "text": [
            "30\n"
          ]
        }
      ]
    },
    {
      "cell_type": "markdown",
      "metadata": {
        "id": "OXqVwjmjvnPD"
      },
      "source": [
        "###IF Condition"
      ]
    },
    {
      "cell_type": "code",
      "metadata": {
        "colab": {
          "base_uri": "https://localhost:8080/"
        },
        "id": "9-bsFE_qvpzP",
        "outputId": "414f05e8-8de2-4627-d13c-e545efa7f313"
      },
      "source": [
        "a=20\n",
        "b=20\n",
        "c=5\n",
        "if (a<b):\n",
        "  print(\"a is less than b\")\n",
        "elif (a==b):\n",
        "  print(\"a is equal to b\")\n",
        "  print(\"a is not less than b\")\n",
        "  if (c<b):\n",
        "    print(\"c is less than b\")\n",
        "else:\n",
        "  print(\"a is not less than b\")"
      ],
      "execution_count": 5,
      "outputs": [
        {
          "output_type": "stream",
          "name": "stdout",
          "text": [
            "a is equal to b\n",
            "a is not less than b\n",
            "c is less than b\n"
          ]
        }
      ]
    },
    {
      "cell_type": "markdown",
      "metadata": {
        "id": "HpAhHYT4wwf2"
      },
      "source": [
        "###While"
      ]
    },
    {
      "cell_type": "code",
      "metadata": {
        "colab": {
          "base_uri": "https://localhost:8080/"
        },
        "id": "JRvchbQcwyIb",
        "outputId": "1097dde8-c8d6-4e47-ba1c-dc63020e344c"
      },
      "source": [
        "i=0\n",
        "while (i<=9):\n",
        "  print(i)\n",
        "  i+=1 #i=i+1"
      ],
      "execution_count": 3,
      "outputs": [
        {
          "output_type": "stream",
          "name": "stdout",
          "text": [
            "0\n",
            "1\n",
            "2\n",
            "3\n",
            "4\n",
            "5\n",
            "6\n",
            "7\n",
            "8\n",
            "9\n"
          ]
        }
      ]
    },
    {
      "cell_type": "markdown",
      "metadata": {
        "id": "VNWOm3-sxgWw"
      },
      "source": [
        "###For"
      ]
    },
    {
      "cell_type": "code",
      "metadata": {
        "colab": {
          "base_uri": "https://localhost:8080/"
        },
        "id": "_FrgzDAQw3Iu",
        "outputId": "820a8580-2d03-4122-97c2-03dbda6ad8f9"
      },
      "source": [
        "for i in range(11,0,-1):\n",
        "  print(i)"
      ],
      "execution_count": 9,
      "outputs": [
        {
          "output_type": "stream",
          "name": "stdout",
          "text": [
            "11\n",
            "10\n",
            "9\n",
            "8\n",
            "7\n",
            "6\n",
            "5\n",
            "4\n",
            "3\n",
            "2\n",
            "1\n"
          ]
        }
      ]
    }
  ]
}